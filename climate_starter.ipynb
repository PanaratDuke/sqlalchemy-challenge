{
 "cells": [
  {
   "cell_type": "code",
   "execution_count": 1,
   "metadata": {},
   "outputs": [],
   "source": [
    "%matplotlib inline\n",
    "from matplotlib import style\n",
    "style.use('fivethirtyeight')\n",
    "import matplotlib.pyplot as plt"
   ]
  },
  {
   "cell_type": "code",
   "execution_count": 2,
   "metadata": {},
   "outputs": [],
   "source": [
    "import numpy as np\n",
    "import pandas as pd"
   ]
  },
  {
   "cell_type": "code",
   "execution_count": 3,
   "metadata": {},
   "outputs": [],
   "source": [
    "import datetime as dt\n",
    "from flask import jsonify"
   ]
  },
  {
   "cell_type": "markdown",
   "metadata": {},
   "source": [
    "# Reflect Tables into SQLAlchemy ORM"
   ]
  },
  {
   "cell_type": "code",
   "execution_count": 4,
   "metadata": {},
   "outputs": [],
   "source": [
    "# Python SQL toolkit and Object Relational Mapper\n",
    "import sqlalchemy\n",
    "from sqlalchemy.ext.automap import automap_base\n",
    "from sqlalchemy.orm import Session\n",
    "\n",
    "#?? what is the func and inspect for\n",
    "from sqlalchemy import create_engine, func, inspect"
   ]
  },
  {
   "cell_type": "code",
   "execution_count": 5,
   "metadata": {},
   "outputs": [],
   "source": [
    "engine = create_engine(f\"sqlite:///Resources/hawaii.sqlite\")"
   ]
  },
  {
   "cell_type": "code",
   "execution_count": 6,
   "metadata": {},
   "outputs": [],
   "source": [
    "inspector = inspect(engine)"
   ]
  },
  {
   "cell_type": "code",
   "execution_count": 7,
   "metadata": {},
   "outputs": [],
   "source": [
    "# dir(inspector)"
   ]
  },
  {
   "cell_type": "code",
   "execution_count": 8,
   "metadata": {},
   "outputs": [
    {
     "data": {
      "text/plain": [
       "['measurement', 'station']"
      ]
     },
     "execution_count": 8,
     "metadata": {},
     "output_type": "execute_result"
    }
   ],
   "source": [
    "tables = inspector.get_table_names()\n",
    "tables"
   ]
  },
  {
   "cell_type": "code",
   "execution_count": 9,
   "metadata": {},
   "outputs": [],
   "source": [
    "# help(inspector.get_columns)"
   ]
  },
  {
   "cell_type": "code",
   "execution_count": 10,
   "metadata": {},
   "outputs": [
    {
     "name": "stdout",
     "output_type": "stream",
     "text": [
      "\n",
      "\n",
      "------------\n",
      "table 'measurement' has the following columns:\n",
      "------------\n",
      "name: id   column type: INTEGER, nullable:False\n",
      "name: station   column type: TEXT, nullable:True\n",
      "name: date   column type: TEXT, nullable:True\n",
      "name: prcp   column type: FLOAT, nullable:True\n",
      "name: tobs   column type: FLOAT, nullable:True\n",
      "\n",
      "\n",
      "------------\n",
      "table 'station' has the following columns:\n",
      "------------\n",
      "name: id   column type: INTEGER, nullable:False\n",
      "name: station   column type: TEXT, nullable:True\n",
      "name: name   column type: TEXT, nullable:True\n",
      "name: latitude   column type: FLOAT, nullable:True\n",
      "name: longitude   column type: FLOAT, nullable:True\n",
      "name: elevation   column type: FLOAT, nullable:True\n"
     ]
    }
   ],
   "source": [
    "for table in tables:\n",
    "    print(\"\\n\")\n",
    "    print('-' * 12)\n",
    "    print(f\"table '{table}' has the following columns:\")\n",
    "    print('-' * 12)\n",
    "    for column in inspector.get_columns(table):\n",
    "        print(f\"name: {column['name']}   column type: {column['type']}, nullable:{column['nullable']}\")\n",
    "        "
   ]
  },
  {
   "cell_type": "code",
   "execution_count": 11,
   "metadata": {},
   "outputs": [],
   "source": [
    "# reflect an existing database into a new model\n",
    "Base = automap_base()\n",
    "\n",
    "# reflect the tables\n",
    "Base.prepare(engine, reflect = True)"
   ]
  },
  {
   "cell_type": "code",
   "execution_count": 12,
   "metadata": {},
   "outputs": [
    {
     "data": {
      "text/plain": [
       "['measurement', 'station']"
      ]
     },
     "execution_count": 12,
     "metadata": {},
     "output_type": "execute_result"
    }
   ],
   "source": [
    "# We can view all the classes that automap found\n",
    "#--Get table names out\n",
    "Base.classes.keys()"
   ]
  },
  {
   "cell_type": "code",
   "execution_count": 13,
   "metadata": {},
   "outputs": [],
   "source": [
    "# Save references to each table\n",
    "#--Create classes\n",
    "Measurement = Base.classes['measurement']\n",
    "Station = Base.classes['station']"
   ]
  },
  {
   "cell_type": "code",
   "execution_count": 14,
   "metadata": {},
   "outputs": [
    {
     "data": {
      "text/plain": [
       "['__abstract__',\n",
       " '__class__',\n",
       " '__delattr__',\n",
       " '__dict__',\n",
       " '__dir__',\n",
       " '__doc__',\n",
       " '__eq__',\n",
       " '__format__',\n",
       " '__ge__',\n",
       " '__getattribute__',\n",
       " '__gt__',\n",
       " '__hash__',\n",
       " '__init__',\n",
       " '__init_subclass__',\n",
       " '__le__',\n",
       " '__lt__',\n",
       " '__mapper__',\n",
       " '__module__',\n",
       " '__ne__',\n",
       " '__new__',\n",
       " '__reduce__',\n",
       " '__reduce_ex__',\n",
       " '__repr__',\n",
       " '__setattr__',\n",
       " '__sizeof__',\n",
       " '__str__',\n",
       " '__subclasshook__',\n",
       " '__table__',\n",
       " '__weakref__',\n",
       " '_decl_class_registry',\n",
       " '_sa_class_manager',\n",
       " '_sa_decl_prepare',\n",
       " '_sa_raise_deferred_config',\n",
       " 'classes',\n",
       " 'elevation',\n",
       " 'id',\n",
       " 'latitude',\n",
       " 'longitude',\n",
       " 'metadata',\n",
       " 'name',\n",
       " 'prepare',\n",
       " 'station']"
      ]
     },
     "execution_count": 14,
     "metadata": {},
     "output_type": "execute_result"
    }
   ],
   "source": [
    "dir(Measurement)\n",
    "dir(Station)"
   ]
  },
  {
   "cell_type": "code",
   "execution_count": 15,
   "metadata": {},
   "outputs": [],
   "source": [
    "# help(Measurement)"
   ]
  },
  {
   "cell_type": "code",
   "execution_count": 16,
   "metadata": {},
   "outputs": [],
   "source": [
    "# Create our session (link) from Python to the DB\n",
    "session = Session(engine)"
   ]
  },
  {
   "cell_type": "markdown",
   "metadata": {},
   "source": [
    "# Exploratory Climate Analysis"
   ]
  },
  {
   "cell_type": "code",
   "execution_count": 17,
   "metadata": {},
   "outputs": [],
   "source": [
    "# Calculate the date one year from the last date in data set.\n",
    "prev_year = dt.date(2017, 8, 23) - dt.timedelta(days=365)\n",
    "\n",
    "# Design a query to retrieve the last 12 months of precipitation data and plot the results\n",
    "results = session.query(Measurement.date, Measurement.prcp).filter(Measurement.date >= prev_year).all()"
   ]
  },
  {
   "cell_type": "markdown",
   "metadata": {},
   "source": [
    "** Note for study **\n",
    "Functions to use with NaN : - \n",
    ".isna() : check for NaN, \n",
    ".fillna() : dosomthing with missisng value, \n",
    ".dropna() : drop null value"
   ]
  },
  {
   "cell_type": "code",
   "execution_count": 18,
   "metadata": {},
   "outputs": [
    {
     "data": {
      "text/html": [
       "<div>\n",
       "<style scoped>\n",
       "    .dataframe tbody tr th:only-of-type {\n",
       "        vertical-align: middle;\n",
       "    }\n",
       "\n",
       "    .dataframe tbody tr th {\n",
       "        vertical-align: top;\n",
       "    }\n",
       "\n",
       "    .dataframe thead th {\n",
       "        text-align: right;\n",
       "    }\n",
       "</style>\n",
       "<table border=\"1\" class=\"dataframe\">\n",
       "  <thead>\n",
       "    <tr style=\"text-align: right;\">\n",
       "      <th></th>\n",
       "      <th>prcp</th>\n",
       "    </tr>\n",
       "    <tr>\n",
       "      <th>date</th>\n",
       "      <th></th>\n",
       "    </tr>\n",
       "  </thead>\n",
       "  <tbody>\n",
       "    <tr>\n",
       "      <th>2016-08-23</th>\n",
       "      <td>0.00</td>\n",
       "    </tr>\n",
       "    <tr>\n",
       "      <th>2016-08-24</th>\n",
       "      <td>0.08</td>\n",
       "    </tr>\n",
       "    <tr>\n",
       "      <th>2016-08-25</th>\n",
       "      <td>0.08</td>\n",
       "    </tr>\n",
       "    <tr>\n",
       "      <th>2016-08-26</th>\n",
       "      <td>0.00</td>\n",
       "    </tr>\n",
       "    <tr>\n",
       "      <th>2016-08-27</th>\n",
       "      <td>0.00</td>\n",
       "    </tr>\n",
       "    <tr>\n",
       "      <th>...</th>\n",
       "      <td>...</td>\n",
       "    </tr>\n",
       "    <tr>\n",
       "      <th>2017-08-19</th>\n",
       "      <td>0.09</td>\n",
       "    </tr>\n",
       "    <tr>\n",
       "      <th>2017-08-20</th>\n",
       "      <td>0.00</td>\n",
       "    </tr>\n",
       "    <tr>\n",
       "      <th>2017-08-21</th>\n",
       "      <td>0.56</td>\n",
       "    </tr>\n",
       "    <tr>\n",
       "      <th>2017-08-22</th>\n",
       "      <td>0.50</td>\n",
       "    </tr>\n",
       "    <tr>\n",
       "      <th>2017-08-23</th>\n",
       "      <td>0.45</td>\n",
       "    </tr>\n",
       "  </tbody>\n",
       "</table>\n",
       "<p>2230 rows × 1 columns</p>\n",
       "</div>"
      ],
      "text/plain": [
       "            prcp\n",
       "date            \n",
       "2016-08-23  0.00\n",
       "2016-08-24  0.08\n",
       "2016-08-25  0.08\n",
       "2016-08-26  0.00\n",
       "2016-08-27  0.00\n",
       "...          ...\n",
       "2017-08-19  0.09\n",
       "2017-08-20  0.00\n",
       "2017-08-21  0.56\n",
       "2017-08-22  0.50\n",
       "2017-08-23  0.45\n",
       "\n",
       "[2230 rows x 1 columns]"
      ]
     },
     "execution_count": 18,
     "metadata": {},
     "output_type": "execute_result"
    }
   ],
   "source": [
    "#--Loaded the query results into Pandas DataFrame\n",
    "clean_prcp = pd.DataFrame(results)\n",
    "\n",
    "#--Clean data by replacing 0 into the null value\n",
    "clean_prcp = clean_prcp.fillna(0)\n",
    "\n",
    "#--Set indext to column['date']\n",
    "clean_prcp = clean_prcp.set_index('date')\n",
    "\n",
    "\n",
    "#--Sort dataframe by 'date'\n",
    "clean_prcp.sort_values(by='date', ascending = True)\n",
    "clean_prcp"
   ]
  },
  {
   "cell_type": "code",
   "execution_count": 19,
   "metadata": {},
   "outputs": [
    {
     "data": {
      "image/png": "[encoded data removed]",
      "text/plain": [
       "<Figure size 432x288 with 1 Axes>"
      ]
     },
     "metadata": {},
     "output_type": "display_data"
    }
   ],
   "source": [
    "clean_prcp.plot(kind = 'bar')\n",
    "\n",
    "plt.ylim(0, 7)\n",
    "\n",
    "plt.xticks([])\n",
    "plt.ylabel('Inches')\n",
    "plt.title('Precipitatation Data between August 2016 - August 2017')\n",
    "\n",
    "plt.show()"
   ]
  },
  {
   "cell_type": "code",
   "execution_count": 20,
   "metadata": {},
   "outputs": [
    {
     "data": {
      "text/html": [
       "<div>\n",
       "<style scoped>\n",
       "    .dataframe tbody tr th:only-of-type {\n",
       "        vertical-align: middle;\n",
       "    }\n",
       "\n",
       "    .dataframe tbody tr th {\n",
       "        vertical-align: top;\n",
       "    }\n",
       "\n",
       "    .dataframe thead th {\n",
       "        text-align: right;\n",
       "    }\n",
       "</style>\n",
       "<table border=\"1\" class=\"dataframe\">\n",
       "  <thead>\n",
       "    <tr style=\"text-align: right;\">\n",
       "      <th></th>\n",
       "      <th>prcp</th>\n",
       "    </tr>\n",
       "  </thead>\n",
       "  <tbody>\n",
       "    <tr>\n",
       "      <th>count</th>\n",
       "      <td>2230.000000</td>\n",
       "    </tr>\n",
       "    <tr>\n",
       "      <th>mean</th>\n",
       "      <td>0.160664</td>\n",
       "    </tr>\n",
       "    <tr>\n",
       "      <th>std</th>\n",
       "      <td>0.442067</td>\n",
       "    </tr>\n",
       "    <tr>\n",
       "      <th>min</th>\n",
       "      <td>0.000000</td>\n",
       "    </tr>\n",
       "    <tr>\n",
       "      <th>25%</th>\n",
       "      <td>0.000000</td>\n",
       "    </tr>\n",
       "    <tr>\n",
       "      <th>50%</th>\n",
       "      <td>0.010000</td>\n",
       "    </tr>\n",
       "    <tr>\n",
       "      <th>75%</th>\n",
       "      <td>0.110000</td>\n",
       "    </tr>\n",
       "    <tr>\n",
       "      <th>max</th>\n",
       "      <td>6.700000</td>\n",
       "    </tr>\n",
       "  </tbody>\n",
       "</table>\n",
       "</div>"
      ],
      "text/plain": [
       "              prcp\n",
       "count  2230.000000\n",
       "mean      0.160664\n",
       "std       0.442067\n",
       "min       0.000000\n",
       "25%       0.000000\n",
       "50%       0.010000\n",
       "75%       0.110000\n",
       "max       6.700000"
      ]
     },
     "execution_count": 20,
     "metadata": {},
     "output_type": "execute_result"
    }
   ],
   "source": [
    "# Use Pandas to calcualte the summary statistics for the precipitation data\n",
    "clean_prcp.describe()"
   ]
  },
  {
   "cell_type": "markdown",
   "metadata": {},
   "source": [
    "### Station Analysis"
   ]
  },
  {
   "cell_type": "code",
   "execution_count": 21,
   "metadata": {},
   "outputs": [
    {
     "data": {
      "text/plain": [
       "9"
      ]
     },
     "execution_count": 21,
     "metadata": {},
     "output_type": "execute_result"
    }
   ],
   "source": [
    "# Design a query to show how many stations are available in this dataset?\n",
    "stations_results = session.query(Station.id).count()\n",
    "stations_results"
   ]
  },
  {
   "cell_type": "markdown",
   "metadata": {},
   "source": [
    "### Find the most active stations "
   ]
  },
  {
   "cell_type": "code",
   "execution_count": 22,
   "metadata": {},
   "outputs": [
    {
     "data": {
      "text/plain": [
       "('USC00519281', 2772)"
      ]
     },
     "execution_count": 22,
     "metadata": {},
     "output_type": "execute_result"
    }
   ],
   "source": [
    "# What are the most active stations? (i.e. what stations have the most rows)?\n",
    "most_active = session.query(Measurement.station, func.count(Measurement.station))\\\n",
    "                .group_by(Measurement.station)\\\n",
    "                .order_by(func.count(Measurement.station).desc())\n",
    "\n",
    "most_active.first()"
   ]
  },
  {
   "cell_type": "code",
   "execution_count": 23,
   "metadata": {},
   "outputs": [
    {
     "data": {
      "text/html": [
       "<div>\n",
       "<style scoped>\n",
       "    .dataframe tbody tr th:only-of-type {\n",
       "        vertical-align: middle;\n",
       "    }\n",
       "\n",
       "    .dataframe tbody tr th {\n",
       "        vertical-align: top;\n",
       "    }\n",
       "\n",
       "    .dataframe thead th {\n",
       "        text-align: right;\n",
       "    }\n",
       "</style>\n",
       "<table border=\"1\" class=\"dataframe\">\n",
       "  <thead>\n",
       "    <tr style=\"text-align: right;\">\n",
       "      <th></th>\n",
       "      <th>Station</th>\n",
       "      <th>Count</th>\n",
       "    </tr>\n",
       "  </thead>\n",
       "  <tbody>\n",
       "    <tr>\n",
       "      <th>0</th>\n",
       "      <td>USC00519281</td>\n",
       "      <td>2772</td>\n",
       "    </tr>\n",
       "    <tr>\n",
       "      <th>1</th>\n",
       "      <td>USC00519397</td>\n",
       "      <td>2724</td>\n",
       "    </tr>\n",
       "    <tr>\n",
       "      <th>2</th>\n",
       "      <td>USC00513117</td>\n",
       "      <td>2709</td>\n",
       "    </tr>\n",
       "    <tr>\n",
       "      <th>3</th>\n",
       "      <td>USC00519523</td>\n",
       "      <td>2669</td>\n",
       "    </tr>\n",
       "    <tr>\n",
       "      <th>4</th>\n",
       "      <td>USC00516128</td>\n",
       "      <td>2612</td>\n",
       "    </tr>\n",
       "  </tbody>\n",
       "</table>\n",
       "</div>"
      ],
      "text/plain": [
       "       Station  Count\n",
       "0  USC00519281   2772\n",
       "1  USC00519397   2724\n",
       "2  USC00513117   2709\n",
       "3  USC00519523   2669\n",
       "4  USC00516128   2612"
      ]
     },
     "execution_count": 23,
     "metadata": {},
     "output_type": "execute_result"
    }
   ],
   "source": [
    "# List the stations and the counts in descending order.\n",
    "most_active_df = pd.DataFrame(data=most_active, columns=['Station','Count'])\n",
    "most_active_df.head()"
   ]
  },
  {
   "cell_type": "code",
   "execution_count": 24,
   "metadata": {},
   "outputs": [
    {
     "data": {
      "text/plain": [
       "'USC00519281'"
      ]
     },
     "execution_count": 24,
     "metadata": {},
     "output_type": "execute_result"
    }
   ],
   "source": [
    "most_active_station = most_active_df['Station'][0]\n",
    "most_active_station"
   ]
  },
  {
   "cell_type": "markdown",
   "metadata": {},
   "source": [
    "### Station USC00519281 has the highest number of observations"
   ]
  },
  {
   "cell_type": "code",
   "execution_count": 25,
   "metadata": {},
   "outputs": [
    {
     "data": {
      "text/plain": [
       "datetime.date(2016, 8, 23)"
      ]
     },
     "execution_count": 25,
     "metadata": {},
     "output_type": "execute_result"
    }
   ],
   "source": [
    "# Calculate the date one year from the last date in data set.\n",
    "prev_year = dt.date(2017, 8, 23) - dt.timedelta(days=365)\n",
    "prev_year"
   ]
  },
  {
   "cell_type": "code",
   "execution_count": 26,
   "metadata": {},
   "outputs": [
    {
     "data": {
      "text/plain": [
       "[('2016-08-23', 77.0),\n",
       " ('2016-08-24', 77.0),\n",
       " ('2016-08-25', 80.0),\n",
       " ('2016-08-26', 80.0),\n",
       " ('2016-08-27', 75.0),\n",
       " ('2016-08-28', 73.0),\n",
       " ('2016-08-29', 78.0),\n",
       " ('2016-08-30', 77.0),\n",
       " ('2016-08-31', 78.0),\n",
       " ('2016-09-01', 80.0),\n",
       " ('2016-09-02', 80.0),\n",
       " ('2016-09-03', 78.0),\n",
       " ('2016-09-04', 78.0),\n",
       " ('2016-09-05', 78.0),\n",
       " ('2016-09-06', 73.0),\n",
       " ('2016-09-07', 74.0),\n",
       " ('2016-09-08', 80.0),\n",
       " ('2016-09-09', 79.0),\n",
       " ('2016-09-10', 77.0),\n",
       " ('2016-09-11', 80.0),\n",
       " ('2016-09-12', 76.0),\n",
       " ('2016-09-13', 79.0),\n",
       " ('2016-09-14', 75.0),\n",
       " ('2016-09-15', 79.0),\n",
       " ('2016-09-16', 78.0),\n",
       " ('2016-09-17', 79.0),\n",
       " ('2016-09-18', 78.0),\n",
       " ('2016-09-19', 78.0),\n",
       " ('2016-09-20', 76.0),\n",
       " ('2016-09-21', 74.0),\n",
       " ('2016-09-22', 77.0),\n",
       " ('2016-09-23', 78.0),\n",
       " ('2016-09-24', 79.0),\n",
       " ('2016-09-25', 79.0),\n",
       " ('2016-09-26', 77.0),\n",
       " ('2016-09-27', 80.0),\n",
       " ('2016-09-28', 78.0),\n",
       " ('2016-09-29', 78.0),\n",
       " ('2016-09-30', 78.0),\n",
       " ('2016-10-01', 77.0),\n",
       " ('2016-10-02', 79.0),\n",
       " ('2016-10-03', 79.0),\n",
       " ('2016-10-04', 79.0),\n",
       " ('2016-10-05', 79.0),\n",
       " ('2016-10-06', 75.0),\n",
       " ('2016-10-07', 76.0),\n",
       " ('2016-10-08', 73.0),\n",
       " ('2016-10-09', 72.0),\n",
       " ('2016-10-10', 71.0),\n",
       " ('2016-10-11', 77.0),\n",
       " ('2016-10-12', 79.0),\n",
       " ('2016-10-13', 78.0),\n",
       " ('2016-10-14', 79.0),\n",
       " ('2016-10-15', 77.0),\n",
       " ('2016-10-16', 79.0),\n",
       " ('2016-10-17', 77.0),\n",
       " ('2016-10-18', 78.0),\n",
       " ('2016-10-19', 78.0),\n",
       " ('2016-10-20', 78.0),\n",
       " ('2016-10-21', 78.0),\n",
       " ('2016-10-22', 77.0),\n",
       " ('2016-10-23', 74.0),\n",
       " ('2016-10-24', 75.0),\n",
       " ('2016-10-25', 76.0),\n",
       " ('2016-10-26', 73.0),\n",
       " ('2016-10-27', 76.0),\n",
       " ('2016-10-28', 74.0),\n",
       " ('2016-10-29', 77.0),\n",
       " ('2016-10-30', 76.0),\n",
       " ('2016-10-31', 76.0),\n",
       " ('2016-11-01', 74.0),\n",
       " ('2016-11-02', 75.0),\n",
       " ('2016-11-03', 75.0),\n",
       " ('2016-11-04', 75.0),\n",
       " ('2016-11-05', 75.0),\n",
       " ('2016-11-06', 71.0),\n",
       " ('2016-11-07', 63.0),\n",
       " ('2016-11-08', 70.0),\n",
       " ('2016-11-09', 68.0),\n",
       " ('2016-11-10', 67.0),\n",
       " ('2016-11-11', 77.0),\n",
       " ('2016-11-12', 74.0),\n",
       " ('2016-11-13', 77.0),\n",
       " ('2016-11-14', 76.0),\n",
       " ('2016-11-15', 76.0),\n",
       " ('2016-11-16', 75.0),\n",
       " ('2016-11-17', 76.0),\n",
       " ('2016-11-18', 75.0),\n",
       " ('2016-11-19', 73.0),\n",
       " ('2016-11-20', 75.0),\n",
       " ('2016-11-21', 73.0),\n",
       " ('2016-11-22', 75.0),\n",
       " ('2016-11-23', 74.0),\n",
       " ('2016-11-24', 75.0),\n",
       " ('2016-11-25', 74.0),\n",
       " ('2016-11-26', 75.0),\n",
       " ('2016-11-27', 73.0),\n",
       " ('2016-11-28', 75.0),\n",
       " ('2016-11-29', 73.0),\n",
       " ('2016-11-30', 73.0),\n",
       " ('2016-12-01', 74.0),\n",
       " ('2016-12-02', 70.0),\n",
       " ('2016-12-03', 72.0),\n",
       " ('2016-12-04', 70.0),\n",
       " ('2016-12-05', 67.0),\n",
       " ('2016-12-06', 67.0),\n",
       " ('2016-12-07', 69.0),\n",
       " ('2016-12-08', 70.0),\n",
       " ('2016-12-09', 68.0),\n",
       " ('2016-12-10', 69.0),\n",
       " ('2016-12-11', 69.0),\n",
       " ('2016-12-12', 66.0),\n",
       " ('2016-12-13', 65.0),\n",
       " ('2016-12-14', 68.0),\n",
       " ('2016-12-15', 62.0),\n",
       " ('2016-12-16', 75.0),\n",
       " ('2016-12-17', 70.0),\n",
       " ('2016-12-18', 69.0),\n",
       " ('2016-12-19', 76.0),\n",
       " ('2016-12-20', 76.0),\n",
       " ('2016-12-21', 74.0),\n",
       " ('2016-12-22', 73.0),\n",
       " ('2016-12-23', 71.0),\n",
       " ('2016-12-24', 74.0),\n",
       " ('2016-12-25', 74.0),\n",
       " ('2016-12-26', 72.0),\n",
       " ('2016-12-27', 71.0),\n",
       " ('2016-12-28', 72.0),\n",
       " ('2016-12-29', 74.0),\n",
       " ('2016-12-30', 69.0),\n",
       " ('2016-12-31', 67.0),\n",
       " ('2017-01-01', 72.0),\n",
       " ('2017-01-02', 70.0),\n",
       " ('2017-01-03', 64.0),\n",
       " ('2017-01-04', 63.0),\n",
       " ('2017-01-05', 63.0),\n",
       " ('2017-01-06', 62.0),\n",
       " ('2017-01-07', 70.0),\n",
       " ('2017-01-08', 70.0),\n",
       " ('2017-01-09', 62.0),\n",
       " ('2017-01-10', 62.0),\n",
       " ('2017-01-11', 63.0),\n",
       " ('2017-01-12', 65.0),\n",
       " ('2017-01-13', 69.0),\n",
       " ('2017-01-14', 77.0),\n",
       " ('2017-01-15', 70.0),\n",
       " ('2017-01-16', 74.0),\n",
       " ('2017-01-17', 69.0),\n",
       " ('2017-01-18', 72.0),\n",
       " ('2017-01-19', 71.0),\n",
       " ('2017-01-20', 69.0),\n",
       " ('2017-01-21', 71.0),\n",
       " ('2017-01-22', 71.0),\n",
       " ('2017-01-23', 72.0),\n",
       " ('2017-01-24', 72.0),\n",
       " ('2017-01-25', 69.0),\n",
       " ('2017-01-26', 70.0),\n",
       " ('2017-01-27', 66.0),\n",
       " ('2017-01-28', 65.0),\n",
       " ('2017-01-29', 69.0),\n",
       " ('2017-01-30', 68.0),\n",
       " ('2017-01-31', 68.0),\n",
       " ('2017-02-01', 68.0),\n",
       " ('2017-02-02', 59.0),\n",
       " ('2017-02-03', 60.0),\n",
       " ('2017-02-04', 70.0),\n",
       " ('2017-02-05', 73.0),\n",
       " ('2017-02-06', 75.0),\n",
       " ('2017-02-07', 64.0),\n",
       " ('2017-02-08', 59.0),\n",
       " ('2017-02-09', 59.0),\n",
       " ('2017-02-10', 62.0),\n",
       " ('2017-02-11', 68.0),\n",
       " ('2017-02-12', 70.0),\n",
       " ('2017-02-13', 73.0),\n",
       " ('2017-02-14', 79.0),\n",
       " ('2017-02-15', 75.0),\n",
       " ('2017-02-16', 65.0),\n",
       " ('2017-02-17', 70.0),\n",
       " ('2017-02-18', 74.0),\n",
       " ('2017-02-19', 70.0),\n",
       " ('2017-02-20', 70.0),\n",
       " ('2017-02-21', 71.0),\n",
       " ('2017-02-22', 71.0),\n",
       " ('2017-02-23', 71.0),\n",
       " ('2017-02-24', 69.0),\n",
       " ('2017-02-25', 61.0),\n",
       " ('2017-02-26', 67.0),\n",
       " ('2017-02-27', 65.0),\n",
       " ('2017-02-28', 72.0),\n",
       " ('2017-03-01', 71.0),\n",
       " ('2017-03-02', 73.0),\n",
       " ('2017-03-03', 72.0),\n",
       " ('2017-03-04', 77.0),\n",
       " ('2017-03-05', 73.0),\n",
       " ('2017-03-06', 67.0),\n",
       " ('2017-03-07', 62.0),\n",
       " ('2017-03-08', 64.0),\n",
       " ('2017-03-09', 67.0),\n",
       " ('2017-03-10', 66.0),\n",
       " ('2017-03-11', 81.0),\n",
       " ('2017-03-12', 69.0),\n",
       " ('2017-03-13', 66.0),\n",
       " ('2017-03-14', 67.0),\n",
       " ('2017-03-15', 69.0),\n",
       " ('2017-03-16', 66.0),\n",
       " ('2017-03-17', 68.0),\n",
       " ('2017-03-18', 65.0),\n",
       " ('2017-03-19', 74.0),\n",
       " ('2017-03-20', 69.0),\n",
       " ('2017-03-21', 72.0),\n",
       " ('2017-03-22', 73.0),\n",
       " ('2017-03-23', 72.0),\n",
       " ('2017-03-24', 71.0),\n",
       " ('2017-03-25', 76.0),\n",
       " ('2017-03-26', 77.0),\n",
       " ('2017-03-27', 76.0),\n",
       " ('2017-03-28', 74.0),\n",
       " ('2017-03-29', 68.0),\n",
       " ('2017-03-30', 73.0),\n",
       " ('2017-03-31', 71.0),\n",
       " ('2017-04-01', 74.0),\n",
       " ('2017-04-02', 75.0),\n",
       " ('2017-04-03', 70.0),\n",
       " ('2017-04-04', 67.0),\n",
       " ('2017-04-05', 71.0),\n",
       " ('2017-04-06', 67.0),\n",
       " ('2017-04-07', 74.0),\n",
       " ('2017-04-08', 77.0),\n",
       " ('2017-04-09', 78.0),\n",
       " ('2017-04-10', 67.0),\n",
       " ('2017-04-11', 70.0),\n",
       " ('2017-04-12', 69.0),\n",
       " ('2017-04-13', 69.0),\n",
       " ('2017-04-14', 74.0),\n",
       " ('2017-04-15', 78.0),\n",
       " ('2017-04-16', 71.0),\n",
       " ('2017-04-17', 67.0),\n",
       " ('2017-04-18', 68.0),\n",
       " ('2017-04-19', 67.0),\n",
       " ('2017-04-20', 76.0),\n",
       " ('2017-04-21', 69.0),\n",
       " ('2017-04-22', 72.0),\n",
       " ('2017-04-23', 76.0),\n",
       " ('2017-04-24', 68.0),\n",
       " ('2017-04-25', 72.0),\n",
       " ('2017-04-26', 74.0),\n",
       " ('2017-04-27', 70.0),\n",
       " ('2017-04-28', 67.0),\n",
       " ('2017-04-29', 72.0),\n",
       " ('2017-04-30', 60.0),\n",
       " ('2017-05-01', 65.0),\n",
       " ('2017-05-02', 75.0),\n",
       " ('2017-05-03', 70.0),\n",
       " ('2017-05-04', 75.0),\n",
       " ('2017-05-05', 70.0),\n",
       " ('2017-05-06', 79.0),\n",
       " ('2017-05-07', 75.0),\n",
       " ('2017-05-08', 70.0),\n",
       " ('2017-05-09', 67.0),\n",
       " ('2017-05-10', 74.0),\n",
       " ('2017-05-11', 70.0),\n",
       " ('2017-05-12', 75.0),\n",
       " ('2017-05-13', 76.0),\n",
       " ('2017-05-14', 77.0),\n",
       " ('2017-05-15', 74.0),\n",
       " ('2017-05-16', 74.0),\n",
       " ('2017-05-17', 74.0),\n",
       " ('2017-05-18', 69.0),\n",
       " ('2017-05-19', 68.0),\n",
       " ('2017-05-20', 76.0),\n",
       " ('2017-05-21', 74.0),\n",
       " ('2017-05-22', 71.0),\n",
       " ('2017-05-23', 71.0),\n",
       " ('2017-05-24', 74.0),\n",
       " ('2017-05-25', 74.0),\n",
       " ('2017-05-26', 74.0),\n",
       " ('2017-05-27', 74.0),\n",
       " ('2017-05-28', 80.0),\n",
       " ('2017-05-29', 74.0),\n",
       " ('2017-05-30', 72.0),\n",
       " ('2017-05-31', 75.0),\n",
       " ('2017-06-01', 80.0),\n",
       " ('2017-06-02', 76.0),\n",
       " ('2017-06-03', 76.0),\n",
       " ('2017-06-04', 77.0),\n",
       " ('2017-06-05', 75.0),\n",
       " ('2017-06-06', 75.0),\n",
       " ('2017-06-07', 75.0),\n",
       " ('2017-06-08', 75.0),\n",
       " ('2017-06-09', 72.0),\n",
       " ('2017-06-10', 74.0),\n",
       " ('2017-06-11', 74.0),\n",
       " ('2017-06-12', 74.0),\n",
       " ('2017-06-13', 76.0),\n",
       " ('2017-06-14', 74.0),\n",
       " ('2017-06-15', 75.0),\n",
       " ('2017-06-16', 73.0),\n",
       " ('2017-06-17', 79.0),\n",
       " ('2017-06-18', 75.0),\n",
       " ('2017-06-19', 72.0),\n",
       " ('2017-06-20', 72.0),\n",
       " ('2017-06-21', 74.0),\n",
       " ('2017-06-22', 72.0),\n",
       " ('2017-06-23', 72.0),\n",
       " ('2017-06-24', 77.0),\n",
       " ('2017-06-25', 71.0),\n",
       " ('2017-06-26', 73.0),\n",
       " ('2017-06-27', 76.0),\n",
       " ('2017-06-28', 77.0),\n",
       " ('2017-06-29', 76.0),\n",
       " ('2017-06-30', 76.0),\n",
       " ('2017-07-01', 79.0),\n",
       " ('2017-07-02', 81.0),\n",
       " ('2017-07-03', 76.0),\n",
       " ('2017-07-04', 78.0),\n",
       " ('2017-07-05', 77.0),\n",
       " ('2017-07-06', 74.0),\n",
       " ('2017-07-07', 75.0),\n",
       " ('2017-07-08', 78.0),\n",
       " ('2017-07-09', 78.0),\n",
       " ('2017-07-10', 69.0),\n",
       " ('2017-07-11', 72.0),\n",
       " ('2017-07-12', 74.0),\n",
       " ('2017-07-13', 74.0),\n",
       " ('2017-07-14', 76.0),\n",
       " ('2017-07-15', 80.0),\n",
       " ('2017-07-16', 80.0),\n",
       " ('2017-07-17', 76.0),\n",
       " ('2017-07-18', 76.0),\n",
       " ('2017-07-19', 76.0),\n",
       " ('2017-07-20', 77.0),\n",
       " ('2017-07-21', 77.0),\n",
       " ('2017-07-22', 77.0),\n",
       " ('2017-07-23', 82.0),\n",
       " ('2017-07-24', 75.0),\n",
       " ('2017-07-25', 77.0),\n",
       " ('2017-07-26', 75.0),\n",
       " ('2017-07-27', 76.0),\n",
       " ('2017-07-28', 81.0),\n",
       " ('2017-07-29', 82.0),\n",
       " ('2017-07-30', 81.0),\n",
       " ('2017-07-31', 76.0),\n",
       " ('2017-08-04', 77.0),\n",
       " ('2017-08-05', 82.0),\n",
       " ('2017-08-06', 83.0),\n",
       " ('2017-08-13', 77.0),\n",
       " ('2017-08-14', 77.0),\n",
       " ('2017-08-15', 77.0),\n",
       " ('2017-08-16', 76.0),\n",
       " ('2017-08-17', 76.0),\n",
       " ('2017-08-18', 79.0)]"
      ]
     },
     "execution_count": 26,
     "metadata": {},
     "output_type": "execute_result"
    }
   ],
   "source": [
    "# Perform a query to retrieve the data and precipitation scores\n",
    "tobs_results = session.query(Measurement.date, Measurement.tobs).filter(Measurement.date >= prev_year)\\\n",
    "                .filter(Measurement.station == most_active_station).all()\n",
    "# Data retrieved as a list\n",
    "tobs_results"
   ]
  },
  {
   "cell_type": "code",
   "execution_count": 27,
   "metadata": {},
   "outputs": [
    {
     "data": {
      "text/html": [
       "<div>\n",
       "<style scoped>\n",
       "    .dataframe tbody tr th:only-of-type {\n",
       "        vertical-align: middle;\n",
       "    }\n",
       "\n",
       "    .dataframe tbody tr th {\n",
       "        vertical-align: top;\n",
       "    }\n",
       "\n",
       "    .dataframe thead th {\n",
       "        text-align: right;\n",
       "    }\n",
       "</style>\n",
       "<table border=\"1\" class=\"dataframe\">\n",
       "  <thead>\n",
       "    <tr style=\"text-align: right;\">\n",
       "      <th></th>\n",
       "      <th>tobs</th>\n",
       "    </tr>\n",
       "    <tr>\n",
       "      <th>date</th>\n",
       "      <th></th>\n",
       "    </tr>\n",
       "  </thead>\n",
       "  <tbody>\n",
       "    <tr>\n",
       "      <th>2016-08-23</th>\n",
       "      <td>77.0</td>\n",
       "    </tr>\n",
       "    <tr>\n",
       "      <th>2016-08-24</th>\n",
       "      <td>77.0</td>\n",
       "    </tr>\n",
       "    <tr>\n",
       "      <th>2016-08-25</th>\n",
       "      <td>80.0</td>\n",
       "    </tr>\n",
       "    <tr>\n",
       "      <th>2016-08-26</th>\n",
       "      <td>80.0</td>\n",
       "    </tr>\n",
       "    <tr>\n",
       "      <th>2016-08-27</th>\n",
       "      <td>75.0</td>\n",
       "    </tr>\n",
       "    <tr>\n",
       "      <th>...</th>\n",
       "      <td>...</td>\n",
       "    </tr>\n",
       "    <tr>\n",
       "      <th>2017-08-14</th>\n",
       "      <td>77.0</td>\n",
       "    </tr>\n",
       "    <tr>\n",
       "      <th>2017-08-15</th>\n",
       "      <td>77.0</td>\n",
       "    </tr>\n",
       "    <tr>\n",
       "      <th>2017-08-16</th>\n",
       "      <td>76.0</td>\n",
       "    </tr>\n",
       "    <tr>\n",
       "      <th>2017-08-17</th>\n",
       "      <td>76.0</td>\n",
       "    </tr>\n",
       "    <tr>\n",
       "      <th>2017-08-18</th>\n",
       "      <td>79.0</td>\n",
       "    </tr>\n",
       "  </tbody>\n",
       "</table>\n",
       "<p>352 rows × 1 columns</p>\n",
       "</div>"
      ],
      "text/plain": [
       "            tobs\n",
       "date            \n",
       "2016-08-23  77.0\n",
       "2016-08-24  77.0\n",
       "2016-08-25  80.0\n",
       "2016-08-26  80.0\n",
       "2016-08-27  75.0\n",
       "...          ...\n",
       "2017-08-14  77.0\n",
       "2017-08-15  77.0\n",
       "2017-08-16  76.0\n",
       "2017-08-17  76.0\n",
       "2017-08-18  79.0\n",
       "\n",
       "[352 rows x 1 columns]"
      ]
     },
     "execution_count": 27,
     "metadata": {},
     "output_type": "execute_result"
    }
   ],
   "source": [
    "#--Loaded the query results into Pandas DataFrame\n",
    "tobs_12mo = pd.DataFrame(tobs_results)\n",
    "tobs_12mo = tobs_12mo.set_index('date')\n",
    "tobs_12mo"
   ]
  },
  {
   "cell_type": "code",
   "execution_count": 28,
   "metadata": {},
   "outputs": [
    {
     "data": {
      "text/plain": [
       "<matplotlib.legend.Legend at 0x1c98e969f48>"
      ]
     },
     "execution_count": 28,
     "metadata": {},
     "output_type": "execute_result"
    },
    {
     "data": {
      "image/png": "[encoded data removed]",
      "text/plain": [
       "<Figure size 432x288 with 1 Axes>"
      ]
     },
     "metadata": {},
     "output_type": "display_data"
    }
   ],
   "source": [
    "#Plot 1st method\n",
    "\n",
    "plt.hist(tobs_12mo['tobs'],bins=12)\n",
    "plt.title('Histrogram of The Observing Temperature')\n",
    "plt.xlabel(\"Temperature\")\n",
    "plt.ylabel(\"Frequency\")\n",
    "plt.legend(['tobs'], loc=\"upper left\")"
   ]
  },
  {
   "cell_type": "code",
   "execution_count": 29,
   "metadata": {
    "scrolled": true
   },
   "outputs": [
    {
     "data": {
      "text/plain": [
       "<matplotlib.legend.Legend at 0x1c98e960a88>"
      ]
     },
     "execution_count": 29,
     "metadata": {},
     "output_type": "execute_result"
    },
    {
     "data": {
      "image/png": "[encoded data removed]",
      "text/plain": [
       "<Figure size 432x288 with 1 Axes>"
      ]
     },
     "metadata": {},
     "output_type": "display_data"
    }
   ],
   "source": [
    "#Plot 2nd method\n",
    "\n",
    "tobs_12mo.hist(bins=12)\n",
    "plt.title('Histrogram of The Observing Temperature')\n",
    "plt.xlabel(\"Temperature\")\n",
    "plt.ylabel(\"Frequency\")\n",
    "plt.legend(['tobs'], loc=\"upper left\")"
   ]
  },
  {
   "cell_type": "markdown",
   "metadata": {},
   "source": [
    "## Bonus Challenge Assignment"
   ]
  },
  {
   "cell_type": "code",
   "execution_count": 30,
   "metadata": {},
   "outputs": [
    {
     "name": "stdout",
     "output_type": "stream",
     "text": [
      "[(62.0, 69.57142857142857, 74.0)]\n"
     ]
    }
   ],
   "source": [
    "# This function called `calc_temps` will accept start date and end date in the format '%Y-%m-%d' \n",
    "# and return the minimum, average, and maximum temperatures for that range of dates\n",
    "def calc_temps(start_date, end_date):\n",
    "    \"\"\"TMIN, TAVG, and TMAX for a list of dates.\n",
    "    \n",
    "    Args:\n",
    "        start_date (string): A date string in the format %Y-%m-%d\n",
    "        end_date (string): A date string in the format %Y-%m-%d\n",
    "        \n",
    "    Returns:\n",
    "        TMIN, TAVE, and TMAX\n",
    "    \"\"\"\n",
    "    \n",
    "    return session.query(func.min(Measurement.tobs), func.avg(Measurement.tobs), func.max(Measurement.tobs)).\\\n",
    "        filter(Measurement.date >= start_date).filter(Measurement.date <= end_date).all()\n",
    "\n",
    "# function usage example\n",
    "print(calc_temps('2012-02-28', '2012-03-05'))"
   ]
  },
  {
   "cell_type": "code",
   "execution_count": 31,
   "metadata": {},
   "outputs": [
    {
     "name": "stdout",
     "output_type": "stream",
     "text": [
      "[(64.0, 72.02777777777777, 78.0)]\n"
     ]
    }
   ],
   "source": [
    "# Use your previous function `calc_temps` to calculate the tmin, tavg, and tmax \n",
    "# for your trip using the previous year's data for those same dates.\n",
    "# My Vacation\n",
    "print(calc_temps('2017-02-28', '2017-03-05'))"
   ]
  },
  {
   "cell_type": "code",
   "execution_count": 32,
   "metadata": {},
   "outputs": [
    {
     "data": {
      "text/plain": [
       "<BarContainer object of 1 artists>"
      ]
     },
     "execution_count": 32,
     "metadata": {},
     "output_type": "execute_result"
    },
    {
     "data": {
      "image/png": "[encoded data removed]",
      "text/plain": [
       "<Figure size 432x288 with 1 Axes>"
      ]
     },
     "metadata": {},
     "output_type": "display_data"
    }
   ],
   "source": [
    "# Plot the results from your previous query as a bar chart. \n",
    "temp_bar = list(np.ravel(calc_temps('2017-02-28', '2017-03-05')))\n",
    "plt.bar(1,temp_bar[1],yerr=temp_bar[2]-temp_bar[0])\n",
    "# Use \"Trip Avg Temp\" as your Title\n",
    "# Use the average temperature for the y value\n",
    "# Use the peak-to-peak (tmax-tmin) value as the y error bar (yerr)\n"
   ]
  },
  {
   "cell_type": "code",
   "execution_count": 33,
   "metadata": {},
   "outputs": [],
   "source": [
    "# idea base from: https://riptutorial.com/sqlalchemy/example/6614/converting-a-query-result-to-dict\n",
    "def object_as_dict(obj):\n",
    "    \"\"\"\n",
    "    This function takes in a Class instance (row ) from an ORM query and converts it to a dictionary\n",
    "    \"\"\"\n",
    "    obj_count = 1\n",
    "    try:\n",
    "        obj_count = len(obj)\n",
    "    except:\n",
    "        pass\n",
    "    if  obj_count == 1:\n",
    "        base_dict = {c.key: getattr(obj, c.key)\n",
    "            for c in inspect(obj).mapper.column_attrs}\n",
    "        return base_dict\n",
    "    else:\n",
    "        cur_obj = obj[0]\n",
    "        base_dict = {c.key: getattr(cur_obj, c.key) for c in inspect(cur_obj).mapper.column_attrs}\n",
    "        for i in range(1, obj_count):\n",
    "            cur_obj = obj[i]\n",
    "            cur_dict = {c.key: getattr(cur_obj, c.key) for c in inspect(cur_obj).mapper.column_attrs}\n",
    "            base_dict = {**base_dict, **cur_dict} \n",
    "        return base_dict"
   ]
  },
  {
   "cell_type": "code",
   "execution_count": 34,
   "metadata": {},
   "outputs": [],
   "source": [
    "def query_to_list_of_dicts(cur_query):\n",
    "    \"\"\"\n",
    "    From a query object return a list of dictionaries\n",
    "    \"\"\"\n",
    "    return [object_as_dict(row) for row in cur_query]"
   ]
  },
  {
   "cell_type": "code",
   "execution_count": null,
   "metadata": {},
   "outputs": [],
   "source": []
  },
  {
   "cell_type": "code",
   "execution_count": 35,
   "metadata": {},
   "outputs": [
    {
     "ename": "NameError",
     "evalue": "name 'total_rainfall' is not defined",
     "output_type": "error",
     "traceback": [
      "\u001b[1;31m------------------------------------------------------------------------\u001b[0m",
      "\u001b[1;31mNameError\u001b[0m                              Traceback (most recent call last)",
      "\u001b[1;32m<ipython-input-35-87196c9cbe70>\u001b[0m in \u001b[0;36m<module>\u001b[1;34m\u001b[0m\n\u001b[0;32m     12\u001b[0m \u001b[1;31m#                                .group_by(Measurement.station)\\\u001b[0m\u001b[1;33m\u001b[0m\u001b[1;33m\u001b[0m\u001b[1;33m\u001b[0m\u001b[0m\n\u001b[0;32m     13\u001b[0m \u001b[1;31m#                                .order_by(func.sum(Measurement.prcp).desc()).all()\u001b[0m\u001b[1;33m\u001b[0m\u001b[1;33m\u001b[0m\u001b[1;33m\u001b[0m\u001b[0m\n\u001b[1;32m---> 14\u001b[1;33m \u001b[0mtotal_rainfall\u001b[0m\u001b[1;33m\u001b[0m\u001b[1;33m\u001b[0m\u001b[0m\n\u001b[0m\u001b[0;32m     15\u001b[0m \u001b[1;31m# total_rainfall = list(np.ravel(total_rainfall))\u001b[0m\u001b[1;33m\u001b[0m\u001b[1;33m\u001b[0m\u001b[1;33m\u001b[0m\u001b[0m\n\u001b[0;32m     16\u001b[0m \u001b[1;31m# total_rainfall\u001b[0m\u001b[1;33m\u001b[0m\u001b[1;33m\u001b[0m\u001b[1;33m\u001b[0m\u001b[0m\n",
      "\u001b[1;31mNameError\u001b[0m: name 'total_rainfall' is not defined"
     ]
    }
   ],
   "source": [
    "# Calculate the total amount of rainfall per weather station for your trip dates using the previous year's matching dates.\n",
    "# Sort this in descending order by precipitation amount and list the station, name, latitude, longitude, and elevation\n",
    "\n",
    "# total_rainfall = session.query(Measurement.station, \n",
    "#                                Station.name,\\\n",
    "#                                func.sum(Measurement.prcp),\\\n",
    "#                                Station.latitude,\\\n",
    "#                                Station.longitude,\\\n",
    "#                                Station.elevation)\\\n",
    "#                                .filter(Measurement.date >= '2016-08-23')\\\n",
    "#                                .filter(Measurement.station == most_active_station)\\\n",
    "#                                .group_by(Measurement.station)\\\n",
    "#                                .order_by(func.sum(Measurement.prcp).desc()).all()\n",
    "total_rainfall\n",
    "# total_rainfall = list(np.ravel(total_rainfall))\n",
    "# total_rainfall\n",
    "# total_rainfall_df = pd.DataFrame(total_rainfall, index=None)\n",
    "# total_rainfall_df.head()"
   ]
  },
  {
   "cell_type": "code",
   "execution_count": null,
   "metadata": {},
   "outputs": [],
   "source": [
    "# Test\n",
    "measurment = query_to_list_of_dicts(session.query(Measurement))\n",
    "measurment"
   ]
  },
  {
   "cell_type": "code",
   "execution_count": null,
   "metadata": {},
   "outputs": [],
   "source": [
    "total_rainfall = (Measurement.station, \n",
    "                               Station.name,\\\n",
    "                               func.sum(Measurement.prcp),\\\n",
    "                               Station.latitude,\\\n",
    "                               Station.longitude,\\\n",
    "                               Station.elevation)\\\n",
    "                               .filter(Measurement.date >= '2016-08-23')\\\n",
    "                               .filter(Measurement.station == most_active_station)\\\n",
    "                               .group_by(Measurement.station)\\\n",
    "                               .order_by(func.sum(Measurement.prcp).desc()).all()\n",
    "\n",
    "total_rainfall_dict = query_to_list_of_dicts(session.query(total_rainfall))\n",
    "\n",
    "total_rainfall_dict"
   ]
  },
  {
   "cell_type": "code",
   "execution_count": null,
   "metadata": {},
   "outputs": [],
   "source": [
    "# Create a query that will calculate the daily normals \n",
    "# (i.e. the averages for tmin, tmax, and tavg for all historic data matching a specific month and day)\n",
    "\n",
    "def daily_normals(date):\n",
    "    \"\"\"Daily Normals.\n",
    "    \n",
    "    Args:\n",
    "        date (str): A date string in the format '%m-%d'\n",
    "        \n",
    "    Returns:\n",
    "        A list of tuples containing the daily normals, tmin, tavg, and tmax\n",
    "    \n",
    "    \"\"\"\n",
    "    \n",
    "    sel = [func.min(Measurement.tobs), func.avg(Measurement.tobs), func.max(Measurement.tobs)]\n",
    "    return session.query(*sel).filter(func.strftime(\"%m-%d\", Measurement.date) == date).all()\n",
    "    \n",
    "daily_normals(\"01-01\")"
   ]
  },
  {
   "cell_type": "code",
   "execution_count": null,
   "metadata": {},
   "outputs": [],
   "source": [
    "# calculate the daily normals for your trip\n",
    "# push each tuple of calculations into a list called `normals`\n",
    "\n",
    "# Set the start and end date of the trip\n",
    "\n",
    "# Use the start and end date to create a range of dates\n",
    "\n",
    "# Stip off the year and save a list of %m-%d strings\n",
    "\n",
    "# Loop through the list of %m-%d strings and calculate the normals for each date\n"
   ]
  },
  {
   "cell_type": "code",
   "execution_count": null,
   "metadata": {},
   "outputs": [],
   "source": [
    "# Load the previous query results into a Pandas DataFrame and add the `trip_dates` range as the `date` index\n"
   ]
  },
  {
   "cell_type": "code",
   "execution_count": null,
   "metadata": {},
   "outputs": [],
   "source": [
    "# Plot the daily normals as an area plot with `stacked=False`\n"
   ]
  }
 ],
 "metadata": {
  "kernel_info": {
   "name": "python3"
  },
  "kernelspec": {
   "display_name": "Python 3",
   "language": "python",
   "name": "python3"
  },
  "language_info": {
   "codemirror_mode": {
    "name": "ipython",
    "version": 3
   },
   "file_extension": ".py",
   "mimetype": "text/x-python",
   "name": "python",
   "nbconvert_exporter": "python",
   "pygments_lexer": "ipython3",
   "version": "3.7.6"
  },
  "nteract": {
   "version": "0.12.3"
  },
  "varInspector": {
   "cols": {
    "lenName": 16,
    "lenType": 16,
    "lenVar": 40
   },
   "kernels_config": {
    "python": {
     "delete_cmd_postfix": "",
     "delete_cmd_prefix": "del ",
     "library": "var_list.py",
     "varRefreshCmd": "print(var_dic_list())"
    },
    "r": {
     "delete_cmd_postfix": ") ",
     "delete_cmd_prefix": "rm(",
     "library": "var_list.r",
     "varRefreshCmd": "cat(var_dic_list()) "
    }
   },
   "types_to_exclude": [
    "module",
    "function",
    "builtin_function_or_method",
    "instance",
    "_Feature"
   ],
   "window_display": false
  }
 },
 "nbformat": 4,
 "nbformat_minor": 2
}
